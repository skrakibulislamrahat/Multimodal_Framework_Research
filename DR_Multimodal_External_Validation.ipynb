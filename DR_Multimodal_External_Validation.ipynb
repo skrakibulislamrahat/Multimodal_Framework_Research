{
  "nbformat": 4,
  "nbformat_minor": 0,
  "metadata": {
    "colab": {
      "provenance": [],
      "gpuType": "T4",
      "authorship_tag": "ABX9TyOCNQT28GXPAhBc66bVbGcM",
      "include_colab_link": true
    },
    "kernelspec": {
      "name": "python3",
      "display_name": "Python 3"
    },
    "language_info": {
      "name": "python"
    },
    "accelerator": "GPU"
  },
  "cells": [
    {
      "cell_type": "markdown",
      "metadata": {
        "id": "view-in-github",
        "colab_type": "text"
      },
      "source": [
        "<a href=\"https://colab.research.google.com/github/skrakibulislamrahat/Multimodal_Framework_Research/blob/main/DR_Multimodal_External_Validation.ipynb\" target=\"_parent\"><img src=\"https://colab.research.google.com/assets/colab-badge.svg\" alt=\"Open In Colab\"/></a>"
      ]
    },
    {
      "cell_type": "code",
      "execution_count": 2,
      "metadata": {
        "id": "2FDyK_nCZpfq"
      },
      "outputs": [],
      "source": [
        "!pip install -q scikit-learn pandas seaborn tqdm\n",
        "\n",
        "import os\n",
        "import numpy as np\n",
        "import pandas as pd\n",
        "import matplotlib.pyplot as plt\n",
        "import seaborn as sns\n",
        "from tqdm import tqdm\n",
        "from PIL import Image\n",
        "\n",
        "import tensorflow as tf\n",
        "from tensorflow.keras.models import load_model\n",
        "from sklearn.metrics import classification_report, confusion_matrix, roc_auc_score"
      ]
    },
    {
      "cell_type": "code",
      "source": [
        "from google.colab import drive\n",
        "drive.mount('/content/drive', force_remount=True)"
      ],
      "metadata": {
        "colab": {
          "base_uri": "https://localhost:8080/"
        },
        "id": "d6psR6r_ZzRn",
        "outputId": "7667ba1d-acfe-4fcf-fd3c-4ac1eed0f290"
      },
      "execution_count": 3,
      "outputs": [
        {
          "output_type": "stream",
          "name": "stdout",
          "text": [
            "Mounted at /content/drive\n"
          ]
        }
      ]
    },
    {
      "cell_type": "code",
      "source": [
        "import zipfile\n",
        "import os\n",
        "\n",
        "dataset_zip = \"/content/drive/My Drive/Colab_Notebooks/DR_Project/External_Validation/Dataset.zip\"\n",
        "extract_path = \"/content/DR_Data\"\n",
        "\n",
        "# Extract if not already\n",
        "if not os.path.exists(extract_path):\n",
        "    with zipfile.ZipFile(dataset_zip, 'r') as zip_ref:\n",
        "        zip_ref.extractall(extract_path)\n",
        "    print(\"✅ Extracted Dataset.zip\")\n",
        "else:\n",
        "    print(\"✅ Already extracted. Skipping.\")"
      ],
      "metadata": {
        "colab": {
          "base_uri": "https://localhost:8080/"
        },
        "id": "NYG1vsXyaoqm",
        "outputId": "a19d223c-5397-4c85-b535-6281b904f285"
      },
      "execution_count": 7,
      "outputs": [
        {
          "output_type": "stream",
          "name": "stdout",
          "text": [
            "✅ Extracted Dataset.zip\n"
          ]
        }
      ]
    },
    {
      "cell_type": "code",
      "source": [
        "image_dir = f\"{extract_path}/my_preprocessed\"\n",
        "label_path = f\"{extract_path}/grades.csv\"\n",
        "model_path = \"/content/drive/My Drive/Colab_Notebooks/DR_Project/final_fusion_model.keras\""
      ],
      "metadata": {
        "id": "e7RMNne1cQmf"
      },
      "execution_count": 8,
      "outputs": []
    },
    {
      "cell_type": "code",
      "source": [
        "from tensorflow.keras.models import load_model\n",
        "model = load_model(model_path)\n",
        "print(\"✅ Model loaded.\")"
      ],
      "metadata": {
        "colab": {
          "base_uri": "https://localhost:8080/"
        },
        "id": "uLKC1GdMj4C6",
        "outputId": "70807249-298b-4550-baa8-aea885d7b1d9"
      },
      "execution_count": 9,
      "outputs": [
        {
          "output_type": "stream",
          "name": "stdout",
          "text": [
            "✅ Model loaded.\n"
          ]
        }
      ]
    },
    {
      "cell_type": "code",
      "source": [
        "import pandas as pd\n",
        "import numpy as np\n",
        "from tqdm import tqdm\n",
        "from PIL import Image\n",
        "\n",
        "df = pd.read_csv(label_path)\n",
        "df = df.dropna(subset=['adjudicated_dr_grade'])\n",
        "df['label'] = df['adjudicated_dr_grade'].astype(int)\n",
        "df['filename'] = df['image_id'].astype(str).str.strip()  # filenames already include .png\n",
        "\n",
        "IMG_SIZE = 224\n",
        "X, y = [], []\n",
        "\n",
        "for _, row in tqdm(df.iterrows(), total=len(df)):\n",
        "    img_path = os.path.join(image_dir, row['filename'])\n",
        "    if os.path.exists(img_path):\n",
        "        img = Image.open(img_path).convert('RGB')\n",
        "        img = img.resize((IMG_SIZE, IMG_SIZE))\n",
        "        img = np.array(img) / 255.0\n",
        "        X.append(img)\n",
        "        y.append(row['label'])\n",
        "\n",
        "X = np.array(X)\n",
        "y = np.array(y)\n",
        "print(f\"✅ Loaded {len(X)} images.\")"
      ],
      "metadata": {
        "colab": {
          "base_uri": "https://localhost:8080/"
        },
        "id": "NAhrRw6rjNRQ",
        "outputId": "206b3136-50c0-4865-abe7-47195a5fd781"
      },
      "execution_count": 10,
      "outputs": [
        {
          "output_type": "stream",
          "name": "stderr",
          "text": [
            "100%|██████████| 1744/1744 [00:16<00:00, 103.99it/s]\n"
          ]
        },
        {
          "output_type": "stream",
          "name": "stdout",
          "text": [
            "✅ Loaded 1057 images.\n"
          ]
        }
      ]
    },
    {
      "cell_type": "code",
      "source": [
        "from sklearn.metrics import classification_report, roc_auc_score\n",
        "from sklearn.preprocessing import label_binarize\n",
        "import numpy as np\n",
        "\n",
        "# ✅ Simulate 6 clinical metadata features\n",
        "num_samples = len(X)\n",
        "metadata = np.random.normal(loc=0, scale=1, size=(num_samples, 6)).astype(np.float32)\n",
        "\n",
        "# 🔮 Predict using both inputs\n",
        "y_probs = model.predict([X, metadata], verbose=1)\n",
        "y_preds = np.argmax(y_probs, axis=1)\n",
        "\n",
        "# 📊 Classification Report\n",
        "print(\"📊 Classification Report:\\n\")\n",
        "print(classification_report(y, y_preds, digits=4))\n",
        "\n",
        "# 🎯 Macro AUC Score\n",
        "y_bin = label_binarize(y, classes=[0,1,2,3,4])\n",
        "auc_score = roc_auc_score(y_bin, y_probs, average='macro')\n",
        "print(\"🎯 Macro AUC Score:\", round(auc_score, 4))"
      ],
      "metadata": {
        "colab": {
          "base_uri": "https://localhost:8080/"
        },
        "id": "Wa6sTE2QjtRW",
        "outputId": "a75b9e3a-6c31-4b1e-cd5c-1b5adf908228"
      },
      "execution_count": 11,
      "outputs": [
        {
          "output_type": "stream",
          "name": "stdout",
          "text": [
            "\u001b[1m34/34\u001b[0m \u001b[32m━━━━━━━━━━━━━━━━━━━━\u001b[0m\u001b[37m\u001b[0m \u001b[1m9s\u001b[0m 143ms/step\n",
            "📊 Classification Report:\n",
            "\n",
            "              precision    recall  f1-score   support\n",
            "\n",
            "           0     0.5093    0.3504    0.4152       468\n",
            "           1     0.0000    0.0000    0.0000       207\n",
            "           2     0.2816    0.7138    0.4039       290\n",
            "           3     0.0000    0.0000    0.0000        71\n",
            "           4     0.0000    0.0000    0.0000        21\n",
            "\n",
            "    accuracy                         0.3510      1057\n",
            "   macro avg     0.1582    0.2128    0.1638      1057\n",
            "weighted avg     0.3028    0.3510    0.2946      1057\n",
            "\n",
            "🎯 Macro AUC Score: 0.5031\n"
          ]
        },
        {
          "output_type": "stream",
          "name": "stderr",
          "text": [
            "/usr/local/lib/python3.11/dist-packages/sklearn/metrics/_classification.py:1565: UndefinedMetricWarning: Precision is ill-defined and being set to 0.0 in labels with no predicted samples. Use `zero_division` parameter to control this behavior.\n",
            "  _warn_prf(average, modifier, f\"{metric.capitalize()} is\", len(result))\n",
            "/usr/local/lib/python3.11/dist-packages/sklearn/metrics/_classification.py:1565: UndefinedMetricWarning: Precision is ill-defined and being set to 0.0 in labels with no predicted samples. Use `zero_division` parameter to control this behavior.\n",
            "  _warn_prf(average, modifier, f\"{metric.capitalize()} is\", len(result))\n",
            "/usr/local/lib/python3.11/dist-packages/sklearn/metrics/_classification.py:1565: UndefinedMetricWarning: Precision is ill-defined and being set to 0.0 in labels with no predicted samples. Use `zero_division` parameter to control this behavior.\n",
            "  _warn_prf(average, modifier, f\"{metric.capitalize()} is\", len(result))\n"
          ]
        }
      ]
    },
    {
      "cell_type": "code",
      "source": [
        "from sklearn.metrics import confusion_matrix\n",
        "import seaborn as sns\n",
        "import matplotlib.pyplot as plt\n",
        "\n",
        "# Generate confusion matrix\n",
        "cm = confusion_matrix(y, y_preds)\n",
        "\n",
        "# Plot and save\n",
        "plt.figure(figsize=(6, 6))\n",
        "sns.heatmap(cm, annot=True, fmt='d', cmap='Blues', xticklabels=range(5), yticklabels=range(5))\n",
        "plt.title(\"Confusion Matrix on Messidor-2\")\n",
        "plt.xlabel(\"Predicted\")\n",
        "plt.ylabel(\"True\")\n",
        "plt.tight_layout()\n",
        "plt.savefig(\"confusion_matrix_messidor2.png\")\n",
        "plt.show()"
      ],
      "metadata": {
        "colab": {
          "base_uri": "https://localhost:8080/",
          "height": 607
        },
        "id": "wH0YK442q44R",
        "outputId": "3af8963c-ea09-4dcd-f140-b2b663996742"
      },
      "execution_count": 12,
      "outputs": [
        {
          "output_type": "display_data",
          "data": {
            "text/plain": [
              "<Figure size 600x600 with 2 Axes>"
            ],
            "image/png": "[encoded data removed]"
          },
          "metadata": {}
        }
      ]
    },
    {
      "cell_type": "code",
      "source": [
        "from sklearn.metrics import precision_recall_fscore_support\n",
        "\n",
        "class_labels = ['No DR (0)', 'Mild (1)', 'Moderate (2)', 'Severe (3)', 'Proliferative (4)']\n",
        "precision, recall, f1, support = precision_recall_fscore_support(y, y_preds, labels=[0,1,2,3,4])\n",
        "\n",
        "# Create Table 2\n",
        "table2 = pd.DataFrame({\n",
        "    'Class': class_labels,\n",
        "    'Precision': np.round(precision, 2),\n",
        "    'Recall': np.round(recall, 2),\n",
        "    'F1-score': np.round(f1, 2),\n",
        "    'Support': support\n",
        "})\n",
        "\n",
        "print(table2)"
      ],
      "metadata": {
        "colab": {
          "base_uri": "https://localhost:8080/"
        },
        "id": "7Ri_bp_Ur07F",
        "outputId": "ce74e818-1090-4fa4-bb7e-52232c912f05"
      },
      "execution_count": 13,
      "outputs": [
        {
          "output_type": "stream",
          "name": "stdout",
          "text": [
            "               Class  Precision  Recall  F1-score  Support\n",
            "0          No DR (0)       0.51    0.35      0.42      468\n",
            "1           Mild (1)       0.00    0.00      0.00      207\n",
            "2       Moderate (2)       0.28    0.71      0.40      290\n",
            "3         Severe (3)       0.00    0.00      0.00       71\n",
            "4  Proliferative (4)       0.00    0.00      0.00       21\n"
          ]
        },
        {
          "output_type": "stream",
          "name": "stderr",
          "text": [
            "/usr/local/lib/python3.11/dist-packages/sklearn/metrics/_classification.py:1565: UndefinedMetricWarning: Precision is ill-defined and being set to 0.0 in labels with no predicted samples. Use `zero_division` parameter to control this behavior.\n",
            "  _warn_prf(average, modifier, f\"{metric.capitalize()} is\", len(result))\n"
          ]
        }
      ]
    },
    {
      "cell_type": "code",
      "source": [],
      "metadata": {
        "id": "Q8yF62Y9r9BY"
      },
      "execution_count": null,
      "outputs": []
    }
  ]
}