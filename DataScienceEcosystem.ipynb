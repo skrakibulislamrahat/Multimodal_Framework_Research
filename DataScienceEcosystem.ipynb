{
 "cells": [
  {
   "cell_type": "markdown",
   "id": "1b3a9b43-52de-424b-9862-19e070da9a82",
   "metadata": {},
   "source": [
    "# Data Science Tools and Ecosystem "
   ]
  },
  {
   "cell_type": "markdown",
   "id": "aaf830b2-e9ef-41b4-a4e9-b84d0f7fb02a",
   "metadata": {},
   "source": [
    "In this notebook, Data Science Tools and Ecosystem are summarized."
   ]
  },
  {
   "cell_type": "markdown",
   "id": "8d80414c-fcdf-4535-9e7c-26b3f4a9dfa8",
   "metadata": {},
   "source": [
    "<b>Objectives:</b>\n",
    "* List popular languages for Data Science\n",
    "* List commonly used libraries that Data Scientists\n",
    "* Table of commonly used Data Science Tools\n"
   ]
  },
  {
   "cell_type": "markdown",
   "id": "7d92444b-14b2-4c71-9e21-9d07297a1c7d",
   "metadata": {},
   "source": [
    "## Author ##\n",
    "Sk Rakib Ul Islam Rahat"
   ]
  },
  {
   "cell_type": "markdown",
   "id": "d09e01ab-26c5-4449-a9f5-a3a4715fc428",
   "metadata": {},
   "source": [
    "Some of the popular languages that Data Scientists use are:"
   ]
  },
  {
   "cell_type": "markdown",
   "id": "c9071739-4d59-4773-9548-5069e825ba20",
   "metadata": {},
   "source": [
    "1. Python\n",
    "2. R\n",
    "3. SQL"
   ]
  },
  {
   "cell_type": "markdown",
   "id": "3b1ef920-03c2-4523-b2d8-0dd0e4af0564",
   "metadata": {},
   "source": [
    "Some of the commonly used libraries used by Data Scientists include:\n",
    "1. Numpy\n",
    "2. Pandas\n",
    "3. Matplotlib"
   ]
  },
  {
   "cell_type": "markdown",
   "id": "d32ae618-d8a4-494a-b59b-a92786c6804e",
   "metadata": {},
   "source": [
    "| Data Science Tools |\n",
    "|---|\n",
    "| JupyterLab/Notebook|\n",
    "| Spyder|\n",
    "| RStudio|"
   ]
  },
  {
   "cell_type": "markdown",
   "id": "95166e12-c151-4b5e-8960-e989d906e112",
   "metadata": {},
   "source": [
    "### Below are a few examples of evaluating arithmetic expressions in Python."
   ]
  },
  {
   "cell_type": "markdown",
   "id": "ff8e6dd9-0cba-49dc-9f1e-3dd28161663f",
   "metadata": {},
   "source": [
    "This a simple arithmetic expression to mutiply then add integers"
   ]
  },
  {
   "cell_type": "code",
   "execution_count": 1,
   "id": "62b4bc27-10d3-46a5-88bb-7cefa1ce38d7",
   "metadata": {},
   "outputs": [
    {
     "data": {
      "text/html": [
       "17"
      ],
      "text/latex": [
       "17"
      ],
      "text/markdown": [
       "17"
      ],
      "text/plain": [
       "[1] 17"
      ]
     },
     "metadata": {},
     "output_type": "display_data"
    }
   ],
   "source": [
    "(3*4)+5"
   ]
  },
  {
   "cell_type": "markdown",
   "id": "1e73a0d3-3b57-4c8a-890b-2a99d67de716",
   "metadata": {},
   "source": [
    "This will convert 200 minutes to hours by diving by 60"
   ]
  },
  {
   "cell_type": "code",
   "execution_count": 8,
   "id": "1482e818-a852-44b8-aa94-139bafd64a95",
   "metadata": {},
   "outputs": [
    {
     "name": "stdout",
     "output_type": "stream",
     "text": [
      "[1] 3.333333\n"
     ]
    }
   ],
   "source": [
    "minutes = 200\n",
    "hour = minutes / 60\n",
    "print(hour)"
   ]
  },
  {
   "cell_type": "code",
   "execution_count": null,
   "id": "e828ee76-9bf1-4d02-9218-6c290eb3ef7f",
   "metadata": {},
   "outputs": [],
   "source": []
  }
 ],
 "metadata": {
  "kernelspec": {
   "display_name": "R [conda env:RP_Env]",
   "language": "R",
   "name": "conda-env-RP_Env-r"
  },
  "language_info": {
   "codemirror_mode": "r",
   "file_extension": ".r",
   "mimetype": "text/x-r-source",
   "name": "R",
   "pygments_lexer": "r",
   "version": "3.6.1"
  }
 },
 "nbformat": 4,
 "nbformat_minor": 5
}
